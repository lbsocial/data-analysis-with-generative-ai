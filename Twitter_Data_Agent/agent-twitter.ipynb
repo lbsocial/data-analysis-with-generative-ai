{
 "cells": [
  {
   "cell_type": "markdown",
   "id": "9e06d210-2bce-4734-b8f9-3da4bcd7b8e7",
   "metadata": {},
   "source": [
    "# twitter agent\n",
    "beta"
   ]
  },
  {
   "cell_type": "code",
   "execution_count": null,
   "id": "6c5efa59-a30f-48af-bad6-1d71303cd018",
   "metadata": {},
   "outputs": [],
   "source": []
  },
  {
   "cell_type": "markdown",
   "id": "0bee87bd-83da-4ec8-88d2-b4234ea0ccac",
   "metadata": {},
   "source": [
    "## Install Python Libraries\n",
    "\n",
    "- openai-agents"
   ]
  },
  {
   "cell_type": "code",
   "execution_count": 9,
   "id": "9ad1752c-bdce-46ba-8a9f-61c47363279b",
   "metadata": {},
   "outputs": [
    {
     "name": "stdout",
     "output_type": "stream",
     "text": [
      "Note: you may need to restart the kernel to use updated packages.\n"
     ]
    }
   ],
   "source": [
    "pip install openai-agents openai pymongo tweepy -q"
   ]
  },
  {
   "cell_type": "markdown",
   "id": "c841f09b-46ba-428a-83fe-746129e506b0",
   "metadata": {},
   "source": [
    "## Purchase and Store API Key\n",
    "\n",
    "You need to **purchase** your [OpenAI](https://openai.com/) API key and store it securely, such as in **AWS Secrets Manager**.\n",
    "\n",
    "- **Key Name:** `api_key`  \n",
    "- **Key Value:** `<your OpenAI API key>`  \n",
    "- **Secret Name:** `openai`  "
   ]
  },
  {
   "cell_type": "markdown",
   "id": "6b5a0d5f-1a56-479a-a2f7-d8400fa8fa81",
   "metadata": {},
   "source": [
    "## Import Required Libraries\n",
    "\n",
    "The following libraries are used in this notebook:\n",
    "\n",
    "- **boto3**: AWS SDK for Python, used to interact with AWS services.\n",
    "- **json**: Standard Python library for handling JSON data.\n",
    "- **IPython.display**: Provides tools to display images, Markdown content, and other rich media in Jupyter Notebook.\n",
    "- **pandas**: A powerful library for data manipulation and analysis.\n",
    "- **pprint**: Pretty prints data structures for better readability."
   ]
  },
  {
   "cell_type": "code",
   "execution_count": 4,
   "id": "0703d191-a890-4c2e-a4c1-8db23eadd262",
   "metadata": {
    "scrolled": true
   },
   "outputs": [],
   "source": [
    "import boto3\n",
    "import json\n",
    "from IPython.display import display, Image, Markdown\n",
    "import pandas as pd\n",
    "from pprint import pprint"
   ]
  },
  {
   "cell_type": "markdown",
   "id": "b3639fc5-ae39-4eb2-bcda-ea8a345f924d",
   "metadata": {},
   "source": [
    "## Retrieve API Keys Securely from AWS Secrets Manager\n",
    "\n",
    "The following function, `get_secret()`, retrieves a secret from **AWS Secrets Manager**. This is a secure way to store and access sensitive credentials, such as API keys, without hardcoding them into the script"
   ]
  },
  {
   "cell_type": "code",
   "execution_count": 3,
   "id": "7fd3f543-0716-483c-88ce-b41f5fb418cb",
   "metadata": {},
   "outputs": [],
   "source": [
    "def get_secret(secret_name):\n",
    "    region_name = \"us-east-1\"\n",
    "\n",
    "    # Create a Secrets Manager client\n",
    "    session = boto3.session.Session()\n",
    "    client = session.client(\n",
    "        service_name='secretsmanager',\n",
    "        region_name=region_name\n",
    "    )\n",
    "\n",
    "    try:\n",
    "        get_secret_value_response = client.get_secret_value(\n",
    "            SecretId=secret_name\n",
    "        )\n",
    "    except ClientError as e:\n",
    "        raise e\n",
    "\n",
    "    secret = get_secret_value_response['SecretString']\n",
    "    \n",
    "    return json.loads(secret)"
   ]
  },
  {
   "cell_type": "markdown",
   "id": "036141a6-81b9-49bb-a3a5-a77b8282e3c2",
   "metadata": {},
   "source": [
    "configu api key"
   ]
  },
  {
   "cell_type": "code",
   "execution_count": 5,
   "id": "c89be09e-99fc-4c76-b9a1-4cca588c82ed",
   "metadata": {},
   "outputs": [],
   "source": [
    "from agents import set_default_openai_key\n",
    "\n",
    "set_default_openai_key(get_secret('openai')['api_key'])"
   ]
  },
  {
   "cell_type": "markdown",
   "id": "81a9e236-a4d1-4ba3-970a-1913d3b19033",
   "metadata": {},
   "source": [
    "first agent"
   ]
  },
  {
   "cell_type": "code",
   "execution_count": 6,
   "id": "f711ed7a-8b01-4e7b-a1f3-f5ea0aed78cc",
   "metadata": {},
   "outputs": [],
   "source": [
    "from agents import Agent\n",
    "\n",
    "agent = Agent(\n",
    "    name=\"Math Tutor\",\n",
    "    instructions=\"You provide help with math problems. Explain your reasoning at each step and include examples\",\n",
    ")"
   ]
  },
  {
   "cell_type": "code",
   "execution_count": 8,
   "id": "28aa7c49-d7f6-45c7-87bd-a29617d72bbd",
   "metadata": {},
   "outputs": [
    {
     "name": "stdout",
     "output_type": "stream",
     "text": [
      "The capital of France is Paris.\n"
     ]
    }
   ],
   "source": [
    "from agents import Runner\n",
    "\n",
    "\n",
    "result = await Runner.run(agent, \"What is the capital of France?\")\n",
    "print(result.final_output)"
   ]
  },
  {
   "cell_type": "code",
   "execution_count": null,
   "id": "fe248704-23fd-4e8e-ba5a-6c169abe2f1d",
   "metadata": {},
   "outputs": [],
   "source": []
  }
 ],
 "metadata": {
  "kernelspec": {
   "display_name": "conda_python3",
   "language": "python",
   "name": "conda_python3"
  },
  "language_info": {
   "codemirror_mode": {
    "name": "ipython",
    "version": 3
   },
   "file_extension": ".py",
   "mimetype": "text/x-python",
   "name": "python",
   "nbconvert_exporter": "python",
   "pygments_lexer": "ipython3",
   "version": "3.10.16"
  }
 },
 "nbformat": 4,
 "nbformat_minor": 5
}
