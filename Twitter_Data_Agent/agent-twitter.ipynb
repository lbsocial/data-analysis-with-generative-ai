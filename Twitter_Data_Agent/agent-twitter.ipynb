{
 "cells": [
  {
   "cell_type": "markdown",
   "id": "9e06d210-2bce-4734-b8f9-3da4bcd7b8e7",
   "metadata": {},
   "source": [
    "# twitter agent\n",
    "beta"
   ]
  },
  {
   "cell_type": "markdown",
   "id": "0bee87bd-83da-4ec8-88d2-b4234ea0ccac",
   "metadata": {},
   "source": [
    "## Install Python Libraries\n",
    "\n",
    "- openai-agents"
   ]
  },
  {
   "cell_type": "code",
   "execution_count": 10,
   "id": "9ad1752c-bdce-46ba-8a9f-61c47363279b",
   "metadata": {},
   "outputs": [
    {
     "name": "stdout",
     "output_type": "stream",
     "text": [
      "Note: you may need to restart the kernel to use updated packages.\n"
     ]
    }
   ],
   "source": [
    "pip install openai-agents openai pymongo tweepy -q"
   ]
  },
  {
   "cell_type": "markdown",
   "id": "c841f09b-46ba-428a-83fe-746129e506b0",
   "metadata": {},
   "source": [
    "## Purchase and Store API Key\n",
    "\n",
    "Create a MongoDB cluster and store the connection string in a safe place, such as AWS Secrets Manager.\n",
    "\n",
    "    key name: connection_string\n",
    "    key value: <the connection string>, you need to type the password\n",
    "    secret name: mongodb\n",
    "\n",
    "\n",
    "You need to **purchase** your [OpenAI](https://openai.com/) API key and store it securely, such as in **AWS Secrets Manager**.\n",
    "\n",
    "- **Key Name:** `api_key`  \n",
    "- **Key Value:** `<your OpenAI API key>`  \n",
    "- **Secret Name:** `openai`\n"
   ]
  },
  {
   "cell_type": "markdown",
   "id": "6b5a0d5f-1a56-479a-a2f7-d8400fa8fa81",
   "metadata": {},
   "source": [
    "## Import Required Libraries\n",
    "\n",
    "The following libraries are used in this notebook:\n",
    "\n",
    "- **boto3**: AWS SDK for Python, used to interact with AWS services.\n",
    "- **json**: Standard Python library for handling JSON data.\n",
    "- **IPython.display**: Provides tools to display images, Markdown content, and other rich media in Jupyter Notebook.\n",
    "- **pandas**: A powerful library for data manipulation and analysis.\n",
    "- **pprint**: Pretty prints data structures for better readability."
   ]
  },
  {
   "cell_type": "code",
   "execution_count": 22,
   "id": "0703d191-a890-4c2e-a4c1-8db23eadd262",
   "metadata": {
    "scrolled": true
   },
   "outputs": [],
   "source": [
    "import boto3\n",
    "import json\n",
    "from IPython.display import display, Image, Markdown\n",
    "import pandas as pd\n",
    "from pprint import pprint\n",
    "import pymongo\n",
    "from pymongo import MongoClient\n",
    "from agents import Agent, Runner, set_default_openai_key\n"
   ]
  },
  {
   "cell_type": "markdown",
   "id": "d3eebd10-db5a-4609-8b65-ba00ac10f711",
   "metadata": {},
   "source": [
    "# import tools"
   ]
  },
  {
   "cell_type": "code",
   "execution_count": 30,
   "id": "56777714-a1bb-4d85-915c-3a24bb54e94b",
   "metadata": {},
   "outputs": [
    {
     "name": "stdout",
     "output_type": "stream",
     "text": [
      "['Analyze_Tweets_Responses_API.ipynb', 'Prompt-Engineering-Analyze-Twitter-Data.ipynb', 'Automating-Grading-with-OpenAI-Function-Calling.ipynb', 'OpenAI-Assistant-Crafting-Email-Responses.ipynb', 'Collect_Twitter_Data.ipynb', 'Collect-Job-Data-with-Generative-AI.ipynb', '.gitignore', 'Twitter-Image-Classification-Recreation-Editing.ipynb', 'Twitter_Data_Agent', 'LICENSE', 'Exploring-Twitter-Data-with-Vector-Databases-and-RAG-Systems.ipynb', 'Openai_o1_Reasoning_vs_GPT.ipynb', '.ipynb_checkpoints', 'README.md', '.git', 'diamonds.csv']\n"
     ]
    },
    {
     "ename": "ModuleNotFoundError",
     "evalue": "No module named 'twitter_analysis_tools'",
     "output_type": "error",
     "traceback": [
      "\u001b[0;31m---------------------------------------------------------------------------\u001b[0m",
      "\u001b[0;31mModuleNotFoundError\u001b[0m                       Traceback (most recent call last)",
      "Cell \u001b[0;32mIn[30], line 5\u001b[0m\n\u001b[1;32m      2\u001b[0m \u001b[38;5;28;01mimport\u001b[39;00m\u001b[38;5;250m \u001b[39m\u001b[38;5;21;01mos\u001b[39;00m\n\u001b[1;32m      4\u001b[0m \u001b[38;5;28mprint\u001b[39m(os\u001b[38;5;241m.\u001b[39mlistdir())\n\u001b[0;32m----> 5\u001b[0m \u001b[38;5;28;01mfrom\u001b[39;00m\u001b[38;5;250m \u001b[39m\u001b[38;5;21;01mtwitter_analysis_tools\u001b[39;00m\u001b[38;5;250m \u001b[39m\u001b[38;5;28;01mimport\u001b[39;00m collect_tweets\n",
      "\u001b[0;31mModuleNotFoundError\u001b[0m: No module named 'twitter_analysis_tools'"
     ]
    }
   ],
   "source": [
    "import sys\n",
    "import os\n",
    "\n",
    "print(os.listdir())\n",
    "from twitter_analysis_tools import collect_tweets"
   ]
  },
  {
   "cell_type": "markdown",
   "id": "b3639fc5-ae39-4eb2-bcda-ea8a345f924d",
   "metadata": {},
   "source": [
    "## Retrieve API Keys Securely from AWS Secrets Manager\n",
    "\n",
    "The following function, `get_secret()`, retrieves a secret from **AWS Secrets Manager**. This is a secure way to store and access sensitive credentials, such as API keys, without hardcoding them into the script"
   ]
  },
  {
   "cell_type": "code",
   "execution_count": 3,
   "id": "7fd3f543-0716-483c-88ce-b41f5fb418cb",
   "metadata": {},
   "outputs": [],
   "source": [
    "def get_secret(secret_name):\n",
    "    region_name = \"us-east-1\"\n",
    "\n",
    "    # Create a Secrets Manager client\n",
    "    session = boto3.session.Session()\n",
    "    client = session.client(\n",
    "        service_name='secretsmanager',\n",
    "        region_name=region_name\n",
    "    )\n",
    "\n",
    "    try:\n",
    "        get_secret_value_response = client.get_secret_value(\n",
    "            SecretId=secret_name\n",
    "        )\n",
    "    except ClientError as e:\n",
    "        raise e\n",
    "\n",
    "    secret = get_secret_value_response['SecretString']\n",
    "    \n",
    "    return json.loads(secret)"
   ]
  },
  {
   "cell_type": "markdown",
   "id": "036141a6-81b9-49bb-a3a5-a77b8282e3c2",
   "metadata": {},
   "source": [
    "configu api key"
   ]
  },
  {
   "cell_type": "code",
   "execution_count": 17,
   "id": "c89be09e-99fc-4c76-b9a1-4cca588c82ed",
   "metadata": {},
   "outputs": [],
   "source": [
    "bearer_token   = get_secret('twitter_api')['bearer_token']\n",
    "\n",
    "mongodb_connect = get_secret('mongodb')['connection_string']\n",
    "\n",
    "set_default_openai_key(get_secret('openai')['api_key'])\n",
    "\n"
   ]
  },
  {
   "cell_type": "markdown",
   "id": "77020791-d59e-413b-b038-1b99f1ec1a91",
   "metadata": {},
   "source": [
    "## Connect to the MongoDB cluster"
   ]
  },
  {
   "cell_type": "code",
   "execution_count": 15,
   "id": "4dc19bad-51d9-4f00-b1cc-3c7ee1ec4c43",
   "metadata": {
    "tags": []
   },
   "outputs": [
    {
     "data": {
      "text/plain": [
       "'tweet.id_1'"
      ]
     },
     "execution_count": 15,
     "metadata": {},
     "output_type": "execute_result"
    }
   ],
   "source": [
    "mongo_client = MongoClient(mongodb_connect)\n",
    "db = mongo_client.demo # use or create a database named demo\n",
    "tweet_collection = db.tweet_collection #use or create a collection named tweet_collection\n",
    "tweet_collection.create_index([(\"tweet.id\", pymongo.ASCENDING)],unique = True) # make sure the collected tweets are unique"
   ]
  },
  {
   "cell_type": "markdown",
   "id": "81a9e236-a4d1-4ba3-970a-1913d3b19033",
   "metadata": {},
   "source": [
    "# Define the Twitter Data Collector Agent"
   ]
  },
  {
   "cell_type": "code",
   "execution_count": 19,
   "id": "f711ed7a-8b01-4e7b-a1f3-f5ea0aed78cc",
   "metadata": {},
   "outputs": [
    {
     "ename": "NameError",
     "evalue": "name 'collect_tweets' is not defined",
     "output_type": "error",
     "traceback": [
      "\u001b[0;31m---------------------------------------------------------------------------\u001b[0m",
      "\u001b[0;31mNameError\u001b[0m                                 Traceback (most recent call last)",
      "Cell \u001b[0;32mIn[19], line 7\u001b[0m\n\u001b[1;32m      1\u001b[0m data_collector_agent \u001b[38;5;241m=\u001b[39m Agent(\n\u001b[1;32m      2\u001b[0m     name\u001b[38;5;241m=\u001b[39m\u001b[38;5;124m\"\u001b[39m\u001b[38;5;124mDataCollectorAgent\u001b[39m\u001b[38;5;124m\"\u001b[39m,\n\u001b[1;32m      3\u001b[0m     instructions\u001b[38;5;241m=\u001b[39m(\n\u001b[1;32m      4\u001b[0m         \u001b[38;5;124m\"\u001b[39m\u001b[38;5;124mCollect tweets based on a topic and number. \u001b[39m\u001b[38;5;124m\"\u001b[39m\n\u001b[1;32m      5\u001b[0m         \u001b[38;5;124m\"\u001b[39m\u001b[38;5;124mUse the \u001b[39m\u001b[38;5;124m'\u001b[39m\u001b[38;5;124mcollect_tweets\u001b[39m\u001b[38;5;124m'\u001b[39m\u001b[38;5;124m tool to save them to MongoDB.\u001b[39m\u001b[38;5;124m\"\u001b[39m\n\u001b[1;32m      6\u001b[0m     ),\n\u001b[0;32m----> 7\u001b[0m     tools\u001b[38;5;241m=\u001b[39m[\u001b[43mcollect_tweets\u001b[49m],\n\u001b[1;32m      8\u001b[0m )\n",
      "\u001b[0;31mNameError\u001b[0m: name 'collect_tweets' is not defined"
     ]
    }
   ],
   "source": [
    "data_collector_agent = Agent(\n",
    "    name=\"DataCollectorAgent\",\n",
    "    instructions=(\n",
    "        \"Collect tweets based on a topic and number. \"\n",
    "        \"Use the 'collect_tweets' tool to save them to MongoDB.\"\n",
    "    ),\n",
    "    tools=[collect_tweets],\n",
    ")\n"
   ]
  },
  {
   "cell_type": "markdown",
   "id": "21d2f6f6-3bf3-4107-953d-50bf86411dd7",
   "metadata": {},
   "source": [
    "# Define the Main Orchestrator Agent"
   ]
  },
  {
   "cell_type": "code",
   "execution_count": 20,
   "id": "fe248704-23fd-4e8e-ba5a-6c169abe2f1d",
   "metadata": {},
   "outputs": [
    {
     "ename": "NameError",
     "evalue": "name 'data_collector_agent' is not defined",
     "output_type": "error",
     "traceback": [
      "\u001b[0;31m---------------------------------------------------------------------------\u001b[0m",
      "\u001b[0;31mNameError\u001b[0m                                 Traceback (most recent call last)",
      "Cell \u001b[0;32mIn[20], line 7\u001b[0m\n\u001b[1;32m      1\u001b[0m main_agent \u001b[38;5;241m=\u001b[39m Agent(\n\u001b[1;32m      2\u001b[0m     name\u001b[38;5;241m=\u001b[39m\u001b[38;5;124m\"\u001b[39m\u001b[38;5;124mMainTwitterAgent\u001b[39m\u001b[38;5;124m\"\u001b[39m,\n\u001b[1;32m      3\u001b[0m     instructions\u001b[38;5;241m=\u001b[39m(\n\u001b[1;32m      4\u001b[0m         \u001b[38;5;124m\"\u001b[39m\u001b[38;5;124mYou are a coordinator agent. Based on the user\u001b[39m\u001b[38;5;124m'\u001b[39m\u001b[38;5;124ms request, decide whether to collect tweets, analyze tweets, or answer questions. \u001b[39m\u001b[38;5;124m\"\u001b[39m\n\u001b[1;32m      5\u001b[0m         \u001b[38;5;124m\"\u001b[39m\u001b[38;5;124mStart by using the appropriate agent to complete the task.\u001b[39m\u001b[38;5;124m\"\u001b[39m\n\u001b[1;32m      6\u001b[0m     ),\n\u001b[0;32m----> 7\u001b[0m     tools\u001b[38;5;241m=\u001b[39m[\u001b[43mdata_collector_agent\u001b[49m],\n\u001b[1;32m      8\u001b[0m )\n",
      "\u001b[0;31mNameError\u001b[0m: name 'data_collector_agent' is not defined"
     ]
    }
   ],
   "source": [
    "main_agent = Agent(\n",
    "    name=\"MainTwitterAgent\",\n",
    "    instructions=(\n",
    "        \"You are a coordinator agent. Based on the user's request, decide whether to collect tweets, analyze tweets, or answer questions. \"\n",
    "        \"Start by using the appropriate agent to complete the task.\"\n",
    "    ),\n",
    "    tools=[data_collector_agent],\n",
    ")"
   ]
  },
  {
   "cell_type": "markdown",
   "id": "ee04c59f-1696-4bdb-9421-8f66dc8a58dd",
   "metadata": {},
   "source": [
    "# Example Usage: Direct user query"
   ]
  },
  {
   "cell_type": "code",
   "execution_count": 21,
   "id": "1c5ee09f-b0bb-447a-9532-58d02efb3da8",
   "metadata": {},
   "outputs": [
    {
     "ename": "NameError",
     "evalue": "name 'main_agent' is not defined",
     "output_type": "error",
     "traceback": [
      "\u001b[0;31m---------------------------------------------------------------------------\u001b[0m",
      "\u001b[0;31mNameError\u001b[0m                                 Traceback (most recent call last)",
      "Cell \u001b[0;32mIn[21], line 1\u001b[0m\n\u001b[0;32m----> 1\u001b[0m response \u001b[38;5;241m=\u001b[39m Runner\u001b[38;5;241m.\u001b[39mrun_sync(\u001b[43mmain_agent\u001b[49m, \u001b[38;5;124m\"\u001b[39m\u001b[38;5;124mCollect 50 tweets about generative AI\u001b[39m\u001b[38;5;124m\"\u001b[39m)\n\u001b[1;32m      2\u001b[0m \u001b[38;5;28mprint\u001b[39m(response\u001b[38;5;241m.\u001b[39mfinal_output)\n",
      "\u001b[0;31mNameError\u001b[0m: name 'main_agent' is not defined"
     ]
    }
   ],
   "source": [
    "response = Runner.run_sync(main_agent, \"Collect 50 tweets about generative AI\")\n",
    "print(response.final_output)"
   ]
  },
  {
   "cell_type": "code",
   "execution_count": null,
   "id": "13827a9b-3682-45af-913b-32d86c3dd012",
   "metadata": {},
   "outputs": [],
   "source": []
  }
 ],
 "metadata": {
  "kernelspec": {
   "display_name": "conda_python3",
   "language": "python",
   "name": "conda_python3"
  },
  "language_info": {
   "codemirror_mode": {
    "name": "ipython",
    "version": 3
   },
   "file_extension": ".py",
   "mimetype": "text/x-python",
   "name": "python",
   "nbconvert_exporter": "python",
   "pygments_lexer": "ipython3",
   "version": "3.10.16"
  }
 },
 "nbformat": 4,
 "nbformat_minor": 5
}
