{
 "cells": [
  {
   "cell_type": "markdown",
   "id": "ef72ad38-b0a3-4d70-837c-b48341acdf98",
   "metadata": {},
   "source": [
    "# Automating Grading with OpenAI Function Calling"
   ]
  },
  {
   "cell_type": "markdown",
   "id": "d04c79aa-d840-4de4-8096-c4f4fd5b24a9",
   "metadata": {},
   "source": [
    "OpenAI's [function calling](https://platform.openai.com/docs/guides/function-calling) allows the AI to determine when to invoke functions based on user input. It formats the required data and sends it to the function, but the execution is handled by the connected application or system.\n",
    "\n",
    "This tutorial demonstrates how to use function calling to grade students' submissions on Canvas."
   ]
  },
  {
   "cell_type": "markdown",
   "id": "63c1761a-33f9-4a9a-a449-428f9b5a5751",
   "metadata": {},
   "source": [
    "## Set up a Database and Request API Keys"
   ]
  },
  {
   "cell_type": "markdown",
   "id": "4dccabee-c67d-4068-8325-854df2f50dce",
   "metadata": {},
   "source": [
    "1. **Store Canvas LMS Developer Key**  \n",
    "   Identify the [Canvas LMS develop key](https://canvas.instructure.com/doc/api/file.developer_keys.html) from your Canvas account and store it in AWS Secrets Manager.  \n",
    "   - **Key Name**: `api_key`  \n",
    "   - **Key Value**: Retrieve this information from your Canvas account.  \n",
    "   - **Secret Name**: `canvas`  \n",
    "   \n",
    "\n",
    "2. **Store OpenAI API Key**  \n",
    "   Purchase and store your [OpenAI](https://openai.com/) API key in AWS Secrets Manager.  \n",
    "   - **Key Name**: `api_key`  \n",
    "   - **Key Value**: `<your OpenAI API key>`  \n",
    "   - **Secret Name**: `openai`"
   ]
  },
  {
   "cell_type": "markdown",
   "id": "2d2f99c1-ea47-4964-98e1-6975b461fa02",
   "metadata": {
    "tags": []
   },
   "source": [
    "## Install Python Libraries\n",
    "- **`canvasapi`**: Retrieve Canvas submissions and post grades  \n",
    "- **`openai`**: Utilize LLMs and function calling  \n",
    "- **`pymongo`**: Check students' answers  "
   ]
  },
  {
   "cell_type": "code",
   "execution_count": null,
   "id": "1a3f5fee-06e8-468a-985f-20de5ea1e7a4",
   "metadata": {
    "tags": []
   },
   "outputs": [],
   "source": [
    "pip install openai canvasapi pymongo --quiet"
   ]
  },
  {
   "cell_type": "markdown",
   "id": "c072d44d-7947-4d0e-8a5d-e88f12e81841",
   "metadata": {
    "tags": []
   },
   "source": [
    "## Secrets Manager Function"
   ]
  },
  {
   "cell_type": "code",
   "execution_count": null,
   "id": "5e41be10-56ee-43d4-9344-675c78fc9370",
   "metadata": {
    "tags": []
   },
   "outputs": [],
   "source": [
    "import boto3\n",
    "from botocore.exceptions import ClientError\n",
    "import json\n",
    "\n",
    "def get_secret(secret_name):\n",
    "    region_name = \"us-east-1\"\n",
    "\n",
    "    # Create a Secrets Manager client\n",
    "    session = boto3.session.Session()\n",
    "    client = session.client(\n",
    "        service_name='secretsmanager',\n",
    "        region_name=region_name\n",
    "    )\n",
    "\n",
    "    try:\n",
    "        get_secret_value_response = client.get_secret_value(\n",
    "            SecretId=secret_name\n",
    "        )\n",
    "    except ClientError as e:\n",
    "        raise e\n",
    "\n",
    "    secret = get_secret_value_response['SecretString']\n",
    "    \n",
    "    return json.loads(secret)"
   ]
  },
  {
   "cell_type": "markdown",
   "id": "69298368-ae25-4ab5-9c0b-49fb0ecc0fd2",
   "metadata": {
    "tags": []
   },
   "source": [
    "## Import Python Libraries and Credentials"
   ]
  },
  {
   "cell_type": "code",
   "execution_count": null,
   "id": "88366770-ce54-48da-9b77-12b59ca910fc",
   "metadata": {
    "tags": []
   },
   "outputs": [],
   "source": [
    "import json\n",
    "import re\n",
    "import os\n",
    "from openai import OpenAI\n",
    "from pprint import pprint\n",
    "from tqdm.auto import tqdm\n",
    "from canvasapi import Canvas\n",
    "import pymongo\n",
    "from pymongo import MongoClient\n",
    "from datetime import datetime\n",
    "from datetime import timezone\n",
    "\n",
    "# Openai client\n",
    "openai_api_key  = get_secret('openai')['api_key']\n",
    "client = OpenAI(api_key=openai_api_key)\n",
    "\n",
    "# Canvas API URL and key\n",
    "API_URL = \"https://canvas.jmu.edu/\"\n",
    "canvas_api_key = get_secret('canvas')['api_key']\n",
    "\n",
    "# Initialize Canvas object\n",
    "canvas = Canvas(API_URL, canvas_api_key)\n",
    "\n",
    "# Course and assignment IDs\n",
    "course_id = 2035535  # Replace with your actual course ID\n",
    "assignment_id = 19255533  # Replace with your actual assignment ID\n",
    "\n",
    "# This code only process the test student\n",
    "demo_student_id = 6117320  # the demo student ID\n"
   ]
  },
  {
   "cell_type": "markdown",
   "id": "843f7729-8af1-4661-bb72-6a87bf1035e7",
   "metadata": {},
   "source": [
    "## Utility Functions\n",
    "- **`retrieve_submissions`**: Retrieve submissions from Canvas  \n",
    "- **`post_grade`**: Post grades to Canvas  "
   ]
  },
  {
   "cell_type": "code",
   "execution_count": null,
   "id": "b8b9ba13-9189-47dd-a409-073fcbd46bfd",
   "metadata": {
    "tags": []
   },
   "outputs": [],
   "source": [
    "def retrieve_submissions():\n",
    "    try:\n",
    "\n",
    "        course = canvas.get_course(course_id)\n",
    "\n",
    "        assignment = course.get_assignment(assignment_id)\n",
    "\n",
    "        submissions = assignment.get_submissions()\n",
    "        return submissions\n",
    "\n",
    "    except Exception as e:\n",
    "        print(f\"An error occurred: {str(e)}\")\n"
   ]
  },
  {
   "cell_type": "code",
   "execution_count": null,
   "id": "6e2b0c4b-6da8-42af-94fb-b0a5faacbd4a",
   "metadata": {
    "tags": []
   },
   "outputs": [],
   "source": [
    "def post_grade(course_id, assignment_id, student_id, grade, comment=None):\n",
    "    try:\n",
    "        course = canvas.get_course(course_id)\n",
    "\n",
    "        assignment = course.get_assignment(assignment_id)\n",
    "        \n",
    "        #here is to edit a graded submission\n",
    "        result = submission.edit(submission={'posted_grade': grade}, comment={'text_comment': comment}) \n",
    "        \n",
    "        print(f\"Grade posted successfully for student {student_id}\")\n",
    "        return result\n",
    "   \n",
    "\n",
    "    except Exception as e:\n",
    "        print(f\"An error occurred: {str(e)}\")\n",
    "        return None"
   ]
  },
  {
   "cell_type": "markdown",
   "id": "dcb43e3d-d669-4b79-963a-ecb5c25b435a",
   "metadata": {},
   "source": [
    "## Calculate grades with a universal correct answer.\n",
    "Define an `openai_help` function to pass the prompt. "
   ]
  },
  {
   "cell_type": "code",
   "execution_count": null,
   "id": "07679489-b056-4073-afc8-124eda797c57",
   "metadata": {
    "tags": []
   },
   "outputs": [],
   "source": [
    "from openai import OpenAI\n",
    "\n",
    "openai_api_key  = get_secret('openai')['api_key']\n",
    "client = OpenAI(api_key=openai_api_key)\n",
    "model = 'gpt-4-0613'\n",
    "temperature = 0\n",
    "\n",
    "def openai_help(messages, model=model, temperature =temperature ):\n",
    "    messages = messages\n",
    "    response = client.chat.completions.create(\n",
    "        model=model,\n",
    "        messages=messages,\n",
    "        temperature=temperature,\n",
    "\n",
    "    )\n",
    "    return response.choices[0].message.content\n",
    "    # return response "
   ]
  },
  {
   "cell_type": "markdown",
   "id": "26ebc4a6-4da4-4a38-a5dd-a8966076060f",
   "metadata": {},
   "source": [
    "In the prompt, provide the students' submissions and the correct answers, and ask the AI to grade the submissions."
   ]
  },
  {
   "cell_type": "code",
   "execution_count": null,
   "id": "b541b945-f7e7-4f2f-8c31-81f718346304",
   "metadata": {
    "tags": []
   },
   "outputs": [],
   "source": [
    "delimiter = '###'\n",
    "\n",
    "right_answer = \"\"\"\n",
    "[{'q1 right answer': {'maxSalary': 221900.0}},\n",
    " {'q2 right answer': {'_id': 'McLean, Virginia', 'count': 35}},\n",
    " {'q3 right answer': {'_id': 'Office of the Director of National Intelligence',\n",
    "   'job_count': 34}},\n",
    " {'q4 right answer': {'total_jobs_starting_in_oct_2024': 102}},\n",
    " {'q5 right answer': {'AI_jobs_count': 6}}]\n",
    "            \"\"\"\n",
    "\n",
    "\n",
    "student_grades=[]\n",
    "\n",
    "\n",
    "for submission in retrieve_submissions():\n",
    "     if submission.body:\n",
    "        # print(submission.user_id)\n",
    "        student_grade={}\n",
    "        \n",
    "        #this code only process the test student\n",
    "        if submission.user_id == demo_student_id:  \n",
    "            \n",
    "            student_grade['student_id']=submission.user_id\n",
    "    \n",
    "            submisson_text = submission.body\n",
    "            # print(submisson_text)\n",
    "\n",
    "            messages = [\n",
    "                {\"role\": \"system\", \"content\": f\"\"\"\n",
    "                                Students are asked to provide a valid MongoDB connection string and answer five questions:\n",
    "\n",
    "                                Q1: {delimiter} What is the highest salary in the job data you collected?\n",
    "                                Q2: {delimiter} Which location has the most jobs?\n",
    "                                Q3: {delimiter} Which organization posted the most jobs?\n",
    "                                Q4: {delimiter} How many jobs start in October 2024?\n",
    "                                Q5: {delimiter} How many jobs mentioned AI in the qualification summary?\n",
    "                                \n",
    "                                \n",
    "                                Analyze the student submissions, delimited by {delimiter}, \n",
    "                                and compare them to the correct answers, also delimited by {delimiter}. \n",
    "                                The total submission is worth 100 points,\n",
    "                                and each question is worth 20 points. \n",
    "                                Each correct answer receives 20 points, \n",
    "                                each wrong answer receives 10 points,\n",
    "                                and no answer receives 0 points. \n",
    "                                If a student fails to provide a connection string, \n",
    "                                they receive 0 for the assignment.\n",
    "                                Calculate the total score and provide a comment to\n",
    "                                explain why they lost points in a JSON document with keys <score> and <comment>.\"\"\"},\n",
    "                \n",
    "                {\"role\": \"user\", \"content\": f\"\"\"student submission:{delimiter}{submisson_text},\n",
    "                                             right ansers: {delimiter}{right_answer}{delimiter}\"\"\"},\n",
    "\n",
    "                ]\n",
    "            \n",
    "            # print(openai_help(messages))\n",
    "            \n",
    "            student_grade['grade'] = json.loads(openai_help(messages))\n",
    "            student_grades.append(student_grade)"
   ]
  },
  {
   "cell_type": "markdown",
   "id": "4446b466-5f49-4a3e-9eb6-8f4773b8390a",
   "metadata": {
    "tags": []
   },
   "source": [
    "Post the grade and comments to Canvas."
   ]
  },
  {
   "cell_type": "code",
   "execution_count": null,
   "id": "6177398a-c039-4fea-a4d6-db0e034a2329",
   "metadata": {
    "tags": []
   },
   "outputs": [],
   "source": [
    "for student_grade in student_grades:\n",
    "    \n",
    "    pprint(student_grade)\n",
    "    post_grade(course_id, assignment_id, student_grade['student_id'], grade= student_grade['grade']['score'], comment=student_grade['grade']['comment'])"
   ]
  },
  {
   "cell_type": "markdown",
   "id": "b1d7474c-48ff-441b-b81d-96ac8053adaf",
   "metadata": {},
   "source": [
    "## Calculate grades with a different correct answer.\n",
    "Define a `check_answer` function to check students' submissions with the provided connection string."
   ]
  },
  {
   "cell_type": "code",
   "execution_count": null,
   "id": "3ee2027e-f20e-483c-9e1d-7058948c0984",
   "metadata": {
    "tags": []
   },
   "outputs": [],
   "source": [
    "def check_answer(connection_string):\n",
    "\n",
    "    # check connection string \n",
    "    checked_answer = {}\n",
    "    try:\n",
    "        client = MongoClient(connection_string)\n",
    "        checked_answer['connection_string']=connection_string\n",
    "\n",
    "    except Exception  as e:\n",
    "        checked_answer['connection_string']=e\n",
    "        return (checked_answer)\n",
    "   \n",
    "    #Q1 answer\n",
    "    \n",
    "    try:\n",
    "        q1_result =  client['demo']['job_collection'].aggregate([\n",
    "            {\n",
    "                '$unwind': '$PositionRemuneration'\n",
    "            }, {\n",
    "                '$group': {\n",
    "                    '_id': None, \n",
    "                    'maxSalary': {\n",
    "                        '$max': {\n",
    "                            '$toDouble': '$PositionRemuneration.MaximumRange'\n",
    "                        }\n",
    "                    }\n",
    "                }\n",
    "            }, {\n",
    "                '$project': {\n",
    "                    '_id': 0, \n",
    "                    'maxSalary': 1\n",
    "                }\n",
    "            }\n",
    "        ])\n",
    "\n",
    "        checked_answer['q1']=next(q1_result)\n",
    "    except Exception  as e:\n",
    "        checked_answer['q1 is wrong']=e\n",
    "    \n",
    "    #Q2 answer\n",
    "\n",
    "    try:\n",
    "        q2_result =  client['demo']['job_collection'].aggregate([\n",
    "                {\n",
    "                    '$unwind': '$PositionLocation'\n",
    "                }, {\n",
    "                    '$group': {\n",
    "                        '_id': '$PositionLocation.LocationName', \n",
    "                        'count': {\n",
    "                            '$sum': 1\n",
    "                        }\n",
    "                    }\n",
    "                }, {\n",
    "                    '$sort': {\n",
    "                        'count': -1\n",
    "                    }\n",
    "                }, {\n",
    "                    '$limit': 1\n",
    "                }\n",
    "            ])\n",
    "\n",
    "        checked_answer['q2']=next(q2_result)\n",
    "    except Exception  as e:\n",
    "        checked_answer['q2 is wrong']=e\n",
    "        \n",
    "    #Q3 answer\n",
    "    \n",
    "    try:\n",
    "        q3_result =   client['demo']['job_collection'].aggregate([\n",
    "        {\n",
    "            '$group': {\n",
    "                '_id': '$OrganizationName', \n",
    "                'job_count': {\n",
    "                    '$sum': 1\n",
    "                }\n",
    "            }\n",
    "        }, {\n",
    "            '$sort': {\n",
    "                'job_count': -1\n",
    "            }\n",
    "        }, {\n",
    "            '$limit': 1\n",
    "        }\n",
    "    ])\n",
    "\n",
    "        checked_answer['q3']=next(q3_result)\n",
    "    except Exception  as e:\n",
    "        checked_answer['q3 is wrong']=e\n",
    "        \n",
    "        \n",
    "    #Q4 answer\n",
    "    \n",
    "    try:\n",
    "        q4_result = client['demo']['job_collection'].aggregate([\n",
    "            {\n",
    "                '$addFields': {\n",
    "                    'PositionStartDate': {\n",
    "                        '$toDate': '$PositionStartDate'\n",
    "                    }\n",
    "                }\n",
    "            }, {\n",
    "                '$match': {\n",
    "                    'PositionStartDate': {\n",
    "                        '$gte': datetime(2024, 10, 1, 0, 0, 0, tzinfo=timezone.utc), \n",
    "                        '$lt': datetime(2024, 11, 1, 0, 0, 0, tzinfo=timezone.utc)\n",
    "                    }\n",
    "                }\n",
    "            }, {\n",
    "                '$count': 'total_jobs_starting_in_oct_2024'\n",
    "            }\n",
    "        ])\n",
    "\n",
    "        checked_answer['q4']=next(q4_result)\n",
    "    except Exception  as e:\n",
    "        checked_answer['q4 is wrong']=e\n",
    "\n",
    "   \n",
    "    # Q5 answer\n",
    "    try:\n",
    "        q5_result = client['demo']['job_collection'].aggregate([\n",
    "            {\n",
    "                '$match': {\n",
    "                    '$text': {\n",
    "                        '$search': 'AI'\n",
    "                    }\n",
    "                }\n",
    "            }, {\n",
    "                '$count': 'AI_jobs_count'\n",
    "            }\n",
    "        ])\n",
    "    \n",
    "        checked_answer['q5']=next(q5_result)\n",
    "    except Exception  as e:\n",
    "        checked_answer['q5 is wrong']=e\n",
    "        \n",
    "    # print(checked_answer)\n",
    "    return(checked_answer)\n"
   ]
  },
  {
   "cell_type": "code",
   "execution_count": null,
   "id": "619f5d5c-ed00-45f9-aab9-4dd5cf98051e",
   "metadata": {
    "tags": []
   },
   "outputs": [],
   "source": [
    "connection_string = ''\n",
    "\n",
    "check_answer(connection_string)"
   ]
  },
  {
   "cell_type": "markdown",
   "id": "c229b85b-d077-42a7-a221-7218dbf60819",
   "metadata": {
    "tags": []
   },
   "source": [
    "Write the **function schema**. The following schema is generated using the  [OpenAI Function calling guide](https://platform.openai.com/docs/guides/function-calling)."
   ]
  },
  {
   "cell_type": "code",
   "execution_count": null,
   "id": "744a7510-81f3-41d4-845e-73e56a58420b",
   "metadata": {
    "tags": []
   },
   "outputs": [],
   "source": [
    "functions = [\n",
    "    {\n",
    "        \"name\": \"check_answer\",\n",
    "        \"description\": \"Checks student responses based on a provided MongoDB connection string.\",\n",
    "        \"parameters\": {\n",
    "            \"type\": \"object\",\n",
    "            \"properties\": {\n",
    "                \"connection_string\": {\n",
    "                    \"type\": \"string\",\n",
    "                    \"description\": \"MongoDB connection string to check the student's answers.\"\n",
    "                }\n",
    "            },\n",
    "            \"required\": [\"connection_string\"]\n",
    "        }\n",
    "    }\n",
    "]\n"
   ]
  },
  {
   "cell_type": "markdown",
   "id": "be5ec5bc-0ec3-42a3-982a-0448ff7cce34",
   "metadata": {},
   "source": [
    "Define an `openai_help_function` to handle prompts and the `check_answer` function."
   ]
  },
  {
   "cell_type": "code",
   "execution_count": null,
   "id": "7cfd5560-50a6-42f7-b9d1-69083128351e",
   "metadata": {
    "tags": []
   },
   "outputs": [],
   "source": [
    "from openai import OpenAI\n",
    "\n",
    "openai_api_key  = get_secret('openai')['api_key']\n",
    "client = OpenAI(api_key=openai_api_key)\n",
    "model = 'gpt-4-0613'\n",
    "temperature = 0\n",
    "\n",
    "def openai_help_function(messages, model=model, temperature =temperature ):\n",
    "    messages = messages\n",
    "    response = client.chat.completions.create(\n",
    "        model=model,\n",
    "        messages=messages,\n",
    "        temperature=temperature,\n",
    "        functions = functions\n",
    "    )\n",
    "    return response "
   ]
  },
  {
   "cell_type": "markdown",
   "id": "4554f7b4-e64c-494f-a4d4-55e1b0124ef1",
   "metadata": {},
   "source": [
    "Write two prompts:\n",
    "\n",
    "1. The first extracts the students' submissions and `connection string`, and if the `connection string` is provided in the student's submission, call the `check_answer` function.\n",
    "2. If the function call is provided, pass the extracted parameters to the `check_answer` function, retrieve the correct answer, compare it, and return the grades and comments."
   ]
  },
  {
   "cell_type": "code",
   "execution_count": null,
   "id": "c8ebca8b-11bf-4718-a5d0-a64a68b199b8",
   "metadata": {
    "tags": []
   },
   "outputs": [],
   "source": [
    "delimiter = '###'\n",
    "student_grades=[]\n",
    "for submission in retrieve_submissions():\n",
    "     if submission.body:\n",
    "        # print(submission.user_id)\n",
    "        student_grade={}\n",
    "        \n",
    "        #this code only checks the test student\n",
    "        if submission.user_id == demo_student_id:  \n",
    "\n",
    "            \n",
    "            messages = [ {\"role\": \"system\", \"content\": f\"\"\"\n",
    "                        Students are asked to provide a valid MongoDB connection string and answer five questions:\n",
    "\n",
    "                        Q1: {delimiter} What is the highest salary in the job data you collected?\n",
    "                        Q2: {delimiter} Which location has the most jobs?\n",
    "                        Q3: {delimiter} Which organization posted the most jobs?\n",
    "                        Q4: {delimiter} How many jobs start in October 2024?\n",
    "                        Q5: {delimiter} How many jobs mentioned AI in the qualification summary?\n",
    "                        Analyze the student submissions, delimited by {delimiter}, \n",
    "                        extract answers to the five questions into a JSON document, \n",
    "                        extract the connection string and check the correct answers using the  connection string.\n",
    "                                                                \"\"\"},\n",
    "\n",
    "            {\"role\": \"user\", \"content\":f\"\"\"student submission:{delimiter}{submisson_text}\"\"\"},            ]\n",
    "\n",
    "            response= openai_help_function(messages)\n",
    "            # pprint(response.choices[0])\n",
    "            \n",
    "            \n",
    "            if response.choices[0].finish_reason == 'function_call':\n",
    "                function_call = response.choices[0].message.function_call\n",
    "                function_name = function_call.name\n",
    "                arguments = function_call.arguments\n",
    "                student_answer = response.choices[0].message.content\n",
    "                # Call the appropriate function\n",
    "                if function_name == \"check_answer\":\n",
    "                    import json\n",
    "                    args = json.loads(arguments)\n",
    "                    right_answer = check_answer(**args)\n",
    "                    student_grade['student_id']= submission.user_id\n",
    "                    messages = [\n",
    "                                        {\"role\": \"system\", \"content\": f\"\"\"\n",
    "                                Students are asked to provide a valid MongoDB connection string and answer five questions:\n",
    "\n",
    "                                Q1: {delimiter} What is the highest salary in the job data you collected?\n",
    "                                Q2: {delimiter} Which location has the most jobs?\n",
    "                                Q3: {delimiter} Which organization posted the most jobs?\n",
    "                                Q4: {delimiter} How many jobs start in October 2024?\n",
    "                                Q5: {delimiter} How many jobs mentioned AI in the qualification summary?\n",
    "                                The student submission and correct answers are delimited by {delimiter}. \n",
    "                                \n",
    "                                \n",
    "                                Compare the student's answers against the correct answers.\n",
    "                                The total submission is worth 100 points, and each question is worth 20 points.\n",
    "                                Each correct answer receives 20 points, each wrong answer receives 10 points, \n",
    "                                and no answer receives 0 points.\n",
    "                                If a student fails to provide a connection string, they receive 0 for this assignment.\n",
    "\n",
    "                                Calculate the total score and provide a comment to explain the score. \n",
    "                                Return the score and comment in a JSON document with keys <score> and <comment>.\n",
    "                                            \"\"\"},\n",
    "                            {\"role\": \"user\", \"content\": f\"\"\"student answer: {delimiter}{student_answer}{delimiter},\n",
    "                                                         right ansewr: {delimiter}{right_answer}{delimiter}\"\"\"},\n",
    "                                ]\n",
    "                    # print(openai_help(messages))\n",
    "                    student_grade['grade'] = json.loads(openai_help(messages))\n",
    "                    student_grades.append(student_grade)\n",
    "\n",
    "\n",
    "    "
   ]
  },
  {
   "cell_type": "markdown",
   "id": "a42c1a64-eda9-4e76-89fc-4d37eed02700",
   "metadata": {},
   "source": [
    "Post the grades and comments to Canvas."
   ]
  },
  {
   "cell_type": "code",
   "execution_count": null,
   "id": "70432747-a86a-435a-9f07-b581d792d5ae",
   "metadata": {
    "tags": []
   },
   "outputs": [],
   "source": [
    "for student_grade in student_grades:\n",
    "    \n",
    "    pprint(student_grade)\n",
    "    post_grade(course_id, assignment_id, student_grade['student_id'], grade= student_grade['grade']['score'], comment=student_grade['grade']['comment'])"
   ]
  },
  {
   "cell_type": "markdown",
   "id": "ca22c32d-1ab9-40ed-b6b0-591025be6d0a",
   "metadata": {},
   "source": [
    "## Reference\n",
    "\n",
    "- Harrison Chase. *“Functions, Tools and Agents with LangChain.”* DeepLearning.AI. Accessed November 19, 2024. https://www.deeplearning.ai/short-courses/functions-tools-agents-langchain/.\n",
    "\n"
   ]
  },
  {
   "cell_type": "code",
   "execution_count": null,
   "id": "1d702fbf-456d-4946-b161-490228a559cb",
   "metadata": {},
   "outputs": [],
   "source": []
  }
 ],
 "metadata": {
  "kernelspec": {
   "display_name": "conda_python3",
   "language": "python",
   "name": "conda_python3"
  },
  "language_info": {
   "codemirror_mode": {
    "name": "ipython",
    "version": 3
   },
   "file_extension": ".py",
   "mimetype": "text/x-python",
   "name": "python",
   "nbconvert_exporter": "python",
   "pygments_lexer": "ipython3",
   "version": "3.10.15"
  }
 },
 "nbformat": 4,
 "nbformat_minor": 5
}
