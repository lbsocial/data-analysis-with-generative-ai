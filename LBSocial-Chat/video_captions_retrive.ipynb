{
 "cells": [
  {
   "cell_type": "code",
   "execution_count": 23,
   "id": "e614ccdb-8bf4-43ff-9b3e-b683269f605b",
   "metadata": {},
   "outputs": [],
   "source": [
    "import configparser\n",
    "\n",
    "config = configparser.ConfigParser()\n",
    "config.read('config.ini')\n",
    "\n",
    "google_api_key = config['google']['api']\n"
   ]
  },
  {
   "cell_type": "code",
   "execution_count": 24,
   "id": "f4e3f8aa-a43e-4781-9c8b-b561f0c7d815",
   "metadata": {},
   "outputs": [],
   "source": [
    "import os\n",
    "import json\n",
    "import re\n",
    "from youtube_transcript_api import YouTubeTranscriptApi\n",
    "from googleapiclient.discovery import build\n",
    "\n",
    "# YouTube API setup\n",
    "\n",
    "youtube = build(\"youtube\", \"v3\", developerKey=google_api_key)\n",
    "\n",
    "def sanitize_filename(name):\n",
    "    # Remove any unsafe characters for filenames\n",
    "    name = re.sub(r'[\\\\/:\"*?<>|]+', \"\", name)\n",
    "    return name.strip().replace(\" \", \"_\")\n",
    "\n",
    "def get_playlist_name(playlist_id):\n",
    "    try:\n",
    "        playlist_response = youtube.playlists().list(\n",
    "            part=\"snippet\",\n",
    "            id=playlist_id\n",
    "        ).execute()\n",
    "        items = playlist_response.get(\"items\", [])\n",
    "        if items:\n",
    "            return items[0][\"snippet\"][\"title\"]\n",
    "    except Exception as e:\n",
    "        print(f\"Error retrieving playlist name: {e}\")\n",
    "    return \"captions\"\n",
    "\n",
    "def get_video_captions(video_id):\n",
    "    try:\n",
    "        transcript = YouTubeTranscriptApi.get_transcript(video_id)\n",
    "        # Extract only the caption text from each segment, ignoring timestamps and duration.\n",
    "        captions_texts = [segment[\"text\"] for segment in transcript]\n",
    "        return captions_texts\n",
    "    except Exception as e:\n",
    "        print(f\"Error retrieving captions for {video_id}: {e}\")\n",
    "        return []\n",
    "\n",
    "def get_playlist_videos(playlist_id):\n",
    "    videos = []\n",
    "    next_page_token = None\n",
    "\n",
    "    while True:\n",
    "        playlist_items = youtube.playlistItems().list(\n",
    "            part=\"snippet\",\n",
    "            playlistId=playlist_id,\n",
    "            maxResults=50,\n",
    "            pageToken=next_page_token\n",
    "        ).execute()\n",
    "\n",
    "        for item in playlist_items[\"items\"]:\n",
    "            video_id = item[\"snippet\"][\"resourceId\"][\"videoId\"]\n",
    "            title = item[\"snippet\"][\"title\"]\n",
    "            url = f\"https://www.youtube.com/watch?v={video_id}\"\n",
    "            captions = get_video_captions(video_id)\n",
    "            videos.append({\n",
    "                \"title\": title,\n",
    "                \"url\": url,\n",
    "                \"captions\": captions\n",
    "            })\n",
    "\n",
    "        next_page_token = playlist_items.get(\"nextPageToken\")\n",
    "        if not next_page_token:\n",
    "            break\n",
    "\n",
    "    return videos\n",
    "\n",
    "def save_videos_to_json(videos, output_filename):\n",
    "    with open(output_filename, \"w\", encoding=\"utf-8\") as f:\n",
    "        json.dump(videos, f, ensure_ascii=False, indent=4)\n",
    "    print(f\"Saved {len(videos)} videos to {output_filename}\")\n"
   ]
  },
  {
   "cell_type": "code",
   "execution_count": 25,
   "id": "41308152-2472-464b-aacc-a0897fdf635d",
   "metadata": {},
   "outputs": [
    {
     "name": "stdout",
     "output_type": "stream",
     "text": [
      "Saved 22 videos to Data_Analytics_with_Generative_AI.json\n"
     ]
    }
   ],
   "source": [
    "playlist_id = \"PLHutrxqbP1BzzTi8odV40RhLZQjK8Iy6_\"\n",
    "\n",
    "\n",
    "# Get the playlist name to name the file accordingly\n",
    "playlist_title = get_playlist_name(playlist_id)\n",
    "sanitized_title = sanitize_filename(playlist_title)\n",
    "output_filename = f\"{sanitized_title}.json\"\n",
    "\n",
    "videos = get_playlist_videos(playlist_id)\n",
    "save_videos_to_json(videos, output_filename)"
   ]
  },
  {
   "cell_type": "code",
   "execution_count": null,
   "id": "ad8cc58e-46f3-438c-ba5c-f0f8aec420f2",
   "metadata": {},
   "outputs": [],
   "source": []
  }
 ],
 "metadata": {
  "kernelspec": {
   "display_name": "Python 3 (ipykernel)",
   "language": "python",
   "name": "python3"
  },
  "language_info": {
   "codemirror_mode": {
    "name": "ipython",
    "version": 3
   },
   "file_extension": ".py",
   "mimetype": "text/x-python",
   "name": "python",
   "nbconvert_exporter": "python",
   "pygments_lexer": "ipython3",
   "version": "3.13.1"
  }
 },
 "nbformat": 4,
 "nbformat_minor": 5
}
