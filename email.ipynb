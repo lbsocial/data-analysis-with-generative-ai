{
 "cells": [
  {
   "cell_type": "code",
   "execution_count": null,
   "id": "7ee882d0",
   "metadata": {
    "scrolled": true,
    "tags": []
   },
   "outputs": [],
   "source": [
    "import win32com.client\n",
    "\n",
    "# Create an Outlook application instance\n",
    "outlook = win32com.client.Dispatch(\"Outlook.Application\")\n",
    "namespace = outlook.GetNamespace(\"MAPI\")\n",
    "\n",
    "# Access the \"Stu\" folder\n",
    "# If it's a subfolder under Inbox, replace \"Stu\" with the folder name\n",
    "inbox = namespace.GetDefaultFolder(6)  # 6 refers to the Inbox folder\n",
    "stu_folder = inbox.Folders[\"STU\"]  # Replace \"Stu\" with your folder name\n",
    "\n",
    "# Retrieve emails from the Stu folder\n",
    "messages = stu_folder.Items\n",
    "\n",
    "# Sort emails by ReceivedTime in descending order\n",
    "messages.Sort(\"[ReceivedTime]\", True)  # True for descending order\n",
    "\n",
    "# Iterate over the latest emails\n",
    "latest_count = 5  # Adjust the number of emails to retrieve\n",
    "for i, message in enumerate(messages):\n",
    "    if i >= latest_count:\n",
    "        break  # Stop once the desired number of emails is retrieved\n",
    "    try:\n",
    "        # Retrieve email details\n",
    "        sender_name = message.SenderName\n",
    "        sender_email = message.SenderEmailAddress\n",
    "        subject = message.Subject\n",
    "        body = message.Body\n",
    "        received_time = message.ReceivedTime\n",
    "\n",
    "        # Print email details\n",
    "        print(f\"Email #{i + 1}\")\n",
    "        print(f\"Sender Name: {sender_name}\")\n",
    "        print(f\"Sender Email: {sender_email}\")\n",
    "        print(f\"Subject: {subject}\")\n",
    "        print(f\"Received Time: {received_time}\")\n",
    "        print(f\"Body:\\n{body}\")\n",
    "        print(\"-\" * 50)\n",
    "    except Exception as e:\n",
    "        print(f\"An error occurred: {e}\")\n"
   ]
  },
  {
   "cell_type": "code",
   "execution_count": null,
   "id": "15a24938-dbeb-42cb-8b3f-b33eea23af58",
   "metadata": {},
   "outputs": [],
   "source": [
    "import win32com.client\n",
    "\n",
    "# Create an Outlook application instance\n",
    "outlook = win32com.client.Dispatch(\"Outlook.Application\")\n",
    "\n",
    "# Create a new mail item\n",
    "mail = outlook.CreateItem(0)  # 0 corresponds to an email item\n",
    "\n",
    "# Set email properties\n",
    "mail.Subject = \"Follow-Up on Recent Discussion\"\n",
    "mail.To = \"weixuebin@gmail.com\"  # Replace with the recipient's email\n",
    "\n",
    "mail.Body = \"\"\"\n",
    "Dear [Recipient Name],\n",
    "\n",
    "I hope this message finds you well. I am writing to follow up on our recent discussion regarding [topic]. \n",
    "Please let me know if you need any additional information or have any questions.\n",
    "\n",
    "Looking forward to your response.\n",
    "\n",
    "Best regards,\n",
    "[Your Name]\n",
    "\"\"\"\n",
    "\n",
    "# Save the email as a draft\n",
    "mail.Save()\n",
    "\n",
    "print(\"Drafted email saved successfully.\")\n"
   ]
  },
  {
   "cell_type": "code",
   "execution_count": null,
   "id": "d28a4ea4-bd6a-4e80-ae04-448cf3dce23d",
   "metadata": {},
   "outputs": [],
   "source": [
    "import boto3\n",
    "from botocore.exceptions import ClientError\n",
    "import json\n",
    "\n",
    "def get_secret(secret_name):\n",
    "    region_name = \"us-east-1\"\n",
    "\n",
    "    # Create a Secrets Manager client\n",
    "    session = boto3.session.Session()\n",
    "    client = session.client(\n",
    "        service_name='secretsmanager',\n",
    "        region_name=region_name\n",
    "    )\n",
    "\n",
    "    try:\n",
    "        get_secret_value_response = client.get_secret_value(\n",
    "            SecretId=secret_name\n",
    "        )\n",
    "    except ClientError as e:\n",
    "        raise e\n",
    "\n",
    "    secret = get_secret_value_response['SecretString']\n",
    "    \n",
    "    return json.loads(secret)"
   ]
  },
  {
   "cell_type": "code",
   "execution_count": null,
   "id": "ac220ba3-07b5-4e8c-b32b-e01efa3fc0f9",
   "metadata": {},
   "outputs": [],
   "source": [
    "from openai import OpenAI\n",
    "\n",
    "openai_api_key  = ''\n",
    "client = OpenAI(api_key=openai_api_key)\n",
    "\n",
    "my_assistant = client.beta.assistants.retrieve(\"\")\n",
    "print(my_assistant)"
   ]
  },
  {
   "cell_type": "code",
   "execution_count": null,
   "id": "517b77ba-06f4-462c-8f5c-369d871e1213",
   "metadata": {},
   "outputs": [],
   "source": [
    "empty_thread = client.beta.threads.create()\n",
    "print(empty_thread)"
   ]
  },
  {
   "cell_type": "code",
   "execution_count": null,
   "id": "9313420a-8aa4-416e-a8d9-fc10f07e8723",
   "metadata": {},
   "outputs": [],
   "source": [
    "message = client.beta.threads.messages.create(\n",
    "    thread_id=empty_thread.id,\n",
    "    role=\"user\",\n",
    "    content=\"\"\"\n",
    "\n",
    "Quick question, how can I get my collection in atlas to show the “skills” for chart 2 on the project? \n",
    "\n",
    "\"\"\"\n",
    ")\n"
   ]
  },
  {
   "cell_type": "code",
   "execution_count": null,
   "id": "b4bce6d9-f4fd-4eeb-bb82-6dc66301285b",
   "metadata": {},
   "outputs": [],
   "source": [
    "run = client.beta.threads.runs.create(\n",
    "    thread_id=empty_thread.id,\n",
    "    assistant_id=my_assistant.id\n",
    ")"
   ]
  },
  {
   "cell_type": "code",
   "execution_count": null,
   "id": "5ff6a497-fa89-44c1-a98c-c1beed012b4b",
   "metadata": {},
   "outputs": [],
   "source": [
    "while run.status != 'completed':\n",
    "    run = client.beta.threads.runs.retrieve(\n",
    "        thread_id=empty_thread.id,\n",
    "        run_id=run.id\n",
    "    )\n",
    "    time.sleep(1)\n",
    "\n",
    "messages = client.beta.threads.messages.list(thread_id=empty_thread.id)\n",
    "assistant_response = messages.data[0].content[0].text.value\n",
    "print(assistant_response)"
   ]
  },
  {
   "cell_type": "code",
   "execution_count": null,
   "id": "c4a943e4-8192-45bb-8704-01265085ba0e",
   "metadata": {},
   "outputs": [],
   "source": [
    "import time"
   ]
  },
  {
   "cell_type": "code",
   "execution_count": null,
   "id": "4f00f6b1-7ff4-4721-a4a2-09a92646e6e2",
   "metadata": {},
   "outputs": [],
   "source": []
  }
 ],
 "metadata": {
  "kernelspec": {
   "display_name": "Python 3 (ipykernel)",
   "language": "python",
   "name": "python3"
  },
  "language_info": {
   "codemirror_mode": {
    "name": "ipython",
    "version": 3
   },
   "file_extension": ".py",
   "mimetype": "text/x-python",
   "name": "python",
   "nbconvert_exporter": "python",
   "pygments_lexer": "ipython3",
   "version": "3.13.1"
  }
 },
 "nbformat": 4,
 "nbformat_minor": 5
}
