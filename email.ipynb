{
 "cells": [
  {
   "cell_type": "code",
   "execution_count": null,
   "id": "d28a4ea4-bd6a-4e80-ae04-448cf3dce23d",
   "metadata": {},
   "outputs": [],
   "source": [
    "import boto3\n",
    "from botocore.exceptions import ClientError\n",
    "import json\n",
    "\n",
    "def get_secret(secret_name):\n",
    "    region_name = \"us-east-1\"\n",
    "\n",
    "    # Create a Secrets Manager client\n",
    "    session = boto3.session.Session()\n",
    "    client = session.client(\n",
    "        service_name='secretsmanager',\n",
    "        region_name=region_name\n",
    "    )\n",
    "\n",
    "    try:\n",
    "        get_secret_value_response = client.get_secret_value(\n",
    "            SecretId=secret_name\n",
    "        )\n",
    "    except ClientError as e:\n",
    "        raise e\n",
    "\n",
    "    secret = get_secret_value_response['SecretString']\n",
    "    \n",
    "    return json.loads(secret)"
   ]
  },
  {
   "cell_type": "code",
   "execution_count": null,
   "id": "ac220ba3-07b5-4e8c-b32b-e01efa3fc0f9",
   "metadata": {},
   "outputs": [],
   "source": [
    "from openai import OpenAI\n",
    "\n",
    "openai_api_key  = get_secret('openai')['api_key']\n",
    "client = OpenAI(api_key=openai_api_key)\n",
    "\n",
    "#provide the assisatne id bellow\n",
    "assistant = client.beta.assistants.retrieve(\"\")\n"
   ]
  },
  {
   "cell_type": "code",
   "execution_count": null,
   "id": "517b77ba-06f4-462c-8f5c-369d871e1213",
   "metadata": {},
   "outputs": [],
   "source": [
    "def ask_assistant(question):\n",
    "    thread = client.beta.threads.create()\n",
    "    \n",
    "    client.beta.threads.messages.create(\n",
    "        thread_id=thread.id,\n",
    "        role=\"user\",\n",
    "        content=question\n",
    "    )\n",
    "    \n",
    "    run = client.beta.threads.runs.create(\n",
    "        thread_id=thread.id,\n",
    "        assistant_id=assistant.id\n",
    "    )\n",
    "    \n",
    "    while run.status != 'completed':\n",
    "        run = client.beta.threads.runs.retrieve(thread_id=thread.id, run_id=run.id)\n",
    "    \n",
    "    messages = client.beta.threads.messages.list(thread_id=thread.id)\n",
    "    return messages.data[0].content[0].text.value"
   ]
  },
  {
   "cell_type": "code",
   "execution_count": null,
   "id": "4f00f6b1-7ff4-4721-a4a2-09a92646e6e2",
   "metadata": {},
   "outputs": [],
   "source": [
    "answer = ask_assistant(\"when is the final exam \")\n",
    "print(answer)"
   ]
  },
  {
   "cell_type": "code",
   "execution_count": null,
   "id": "2dcf5b96-bdae-4abf-bdcb-ecb74bbbcedb",
   "metadata": {},
   "outputs": [],
   "source": [
    "import win32com.client\n",
    "\n",
    "# Connect to Outlook\n",
    "outlook = win32com.client.Dispatch(\"Outlook.Application\").GetNamespace(\"MAPI\")\n",
    "\n",
    "# Access the Inbox folder\n",
    "inbox = outlook.GetDefaultFolder(6)  # 6 is the index for the Inbox folder\n",
    "messages = inbox.Items\n",
    "\n",
    "# Sort messages by received time (descending)\n",
    "messages.Sort(\"[ReceivedTime]\", True)\n",
    "\n",
    "# Filter emails based on sender address\n",
    "def filter_emails_by_sender(sender_email):\n",
    "    filtered_emails = []\n",
    "    for message in messages:\n",
    "        try:\n",
    "            if message.SenderEmailAddress.lower() == sender_email.lower():\n",
    "                filtered_emails.append(message)\n",
    "        except Exception as e:\n",
    "            # Handle messages that don't have a sender or are corrupted\n",
    "            print(f\"Error processing email: {e}\")\n",
    "    return filtered_emails\n",
    "\n",
    "# Extract sender name and body text\n",
    "def extract_email_details(message):\n",
    "    try:\n",
    "        sender_name = message.SenderName\n",
    "        body = message.Body\n",
    "        return sender_name, body\n",
    "    except Exception as e:\n",
    "        print(f\"Error extracting email details: {e}\")\n",
    "        return None, None\n",
    "\n",
    "# Create a reply draft\n",
    "def create_reply_draft(message, reply_body):\n",
    "    try:\n",
    "        reply = message.Reply()\n",
    "        reply.Body = f\"{reply_body}\\n\\n--- Original Message ---\\n{message.Body}\"\n",
    "        reply.Save()  \n",
    "    except Exception as e:\n",
    "        print(f\"Error creating reply draft: {e}\")\n"
   ]
  },
  {
   "cell_type": "code",
   "execution_count": null,
   "id": "bb71f9a9-8935-4a38-9ec8-309779ebfe84",
   "metadata": {},
   "outputs": [],
   "source": [
    "sender_email_to_filter = \"weixuebin@gmail.com\"  # Replace with the email address to filter\n",
    "filtered_emails = filter_emails_by_sender(sender_email_to_filter)\n",
    "\n",
    "if filtered_emails:\n",
    "    for email in filtered_emails[:1]:  # Get only the latest matching email\n",
    "        sender_name, body = extract_email_details(email)\n",
    "        if sender_name and body:\n",
    "            print(f\"Sender Name: {sender_name}\")\n",
    "            print(f\"Email Body:\\n{body}\")\n",
    "            \n",
    "            # Create a reply draft\n",
    "            reply_body = ask_assistant(f\"sender: {sender_name}, body:{body}\")\n",
    "            create_reply_draft(email, reply_body)\n",
    "else:\n",
    "    print(\"No emails found from the specified sender.\")"
   ]
  },
  {
   "cell_type": "code",
   "execution_count": null,
   "id": "bbda5019-7d85-471e-a671-2fe7e8af9de0",
   "metadata": {},
   "outputs": [],
   "source": []
  }
 ],
 "metadata": {
  "kernelspec": {
   "display_name": "Python 3 (ipykernel)",
   "language": "python",
   "name": "python3"
  },
  "language_info": {
   "codemirror_mode": {
    "name": "ipython",
    "version": 3
   },
   "file_extension": ".py",
   "mimetype": "text/x-python",
   "name": "python",
   "nbconvert_exporter": "python",
   "pygments_lexer": "ipython3",
   "version": "3.13.1"
  }
 },
 "nbformat": 4,
 "nbformat_minor": 5
}
