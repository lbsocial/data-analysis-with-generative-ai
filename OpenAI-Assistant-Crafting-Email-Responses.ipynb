{
 "cells": [
  {
   "cell_type": "markdown",
   "id": "ef723268-9cb4-4718-8194-b49edad2835c",
   "metadata": {},
   "source": [
    "# OpenAI Assistant Crafting Email Responses"
   ]
  },
  {
   "cell_type": "code",
   "execution_count": null,
   "id": "d28a4ea4-bd6a-4e80-ae04-448cf3dce23d",
   "metadata": {},
   "outputs": [],
   "source": [
    "import configparser\n",
    "\n",
    "config = configparser.ConfigParser(interpolation=None)\n",
    "config.read('config.ini')\n",
    "\n",
    "openai_api_key   = config['openai']['api_key']\n",
    "\n",
    "assistant_id = config['openai-assistant']['assistant_id']"
   ]
  },
  {
   "cell_type": "code",
   "execution_count": null,
   "id": "ac220ba3-07b5-4e8c-b32b-e01efa3fc0f9",
   "metadata": {},
   "outputs": [],
   "source": [
    "from openai import OpenAI\n",
    "\n",
    "\n",
    "client = OpenAI(api_key=openai_api_key)\n",
    "\n",
    "#provide the assisatne id bellow\n",
    "assistant = client.beta.assistants.retrieve(assistant_id)\n"
   ]
  },
  {
   "cell_type": "code",
   "execution_count": null,
   "id": "517b77ba-06f4-462c-8f5c-369d871e1213",
   "metadata": {},
   "outputs": [],
   "source": [
    "def ask_assistant(question):\n",
    "    thread = client.beta.threads.create()\n",
    "    \n",
    "    client.beta.threads.messages.create(\n",
    "        thread_id=thread.id,\n",
    "        role=\"user\",\n",
    "        content=question\n",
    "    )\n",
    "    \n",
    "    run = client.beta.threads.runs.create(\n",
    "        thread_id=thread.id,\n",
    "        assistant_id=assistant.id\n",
    "    )\n",
    "    \n",
    "    while run.status != 'completed':\n",
    "        run = client.beta.threads.runs.retrieve(thread_id=thread.id, run_id=run.id)\n",
    "    \n",
    "    messages = client.beta.threads.messages.list(thread_id=thread.id)\n",
    "    return messages.data[0].content[0].text.value"
   ]
  },
  {
   "cell_type": "code",
   "execution_count": null,
   "id": "4f00f6b1-7ff4-4721-a4a2-09a92646e6e2",
   "metadata": {},
   "outputs": [],
   "source": [
    "answer = ask_assistant(\"name xuebin, body: when is the final exam \")\n",
    "print(answer)"
   ]
  },
  {
   "cell_type": "code",
   "execution_count": null,
   "id": "bbda5019-7d85-471e-a671-2fe7e8af9de0",
   "metadata": {},
   "outputs": [],
   "source": [
    "import win32com.client\n",
    "import re\n",
    "\n",
    "def extract_name(email):\n",
    "    pattern = r\"^([^@]+)@\"\n",
    "    match = re.search(pattern, email)\n",
    "    return match.group(1) if match else email\n",
    "\n",
    "def process_emails(sender_filter):\n",
    "    outlook = win32com.client.Dispatch(\"Outlook.Application\").GetNamespace(\"MAPI\")\n",
    "    inbox = outlook.GetDefaultFolder(6)\n",
    "    messages = inbox.Items\n",
    "    messages.Sort(\"[ReceivedTime]\", True)\n",
    "\n",
    "    for message in messages:\n",
    "        if sender_filter.lower() in message.SenderEmailAddress.lower():\n",
    "            if message.UnRead :\n",
    "                sender_name = message.SenderName\n",
    "                body_text = message.Body\n",
    "    \n",
    "                print(f\"Sender: {sender_name}\")\n",
    "\n",
    "                print(f\"Body: {body_text[:100]}...\")  # Print first 100 characters\n",
    "    \n",
    "                reply = message.Reply()\n",
    "                reply_body = ask_assistant(f\"sender: {sender_name}, body:{body_text}\")\n",
    "                reply.Body = f\"{reply_body}\\n\\n--- Original Message ---\\n{message.Body}\"\n",
    "              \n",
    "                reply.Save()\n",
    "\n",
    "    \n"
   ]
  },
  {
   "cell_type": "code",
   "execution_count": null,
   "id": "0529be11-8f1b-4177-81ba-28a95fcb222a",
   "metadata": {},
   "outputs": [],
   "source": [
    "sender_filter = \"weixuebin@gmail.com\"  # Replace with the desired sender domain or email\n",
    "process_emails(sender_filter)"
   ]
  },
  {
   "cell_type": "code",
   "execution_count": null,
   "id": "19cdc8f9-7b16-499f-b6ad-654e9e34bf2f",
   "metadata": {},
   "outputs": [],
   "source": []
  }
 ],
 "metadata": {
  "kernelspec": {
   "display_name": "Python 3 (ipykernel)",
   "language": "python",
   "name": "python3"
  },
  "language_info": {
   "codemirror_mode": {
    "name": "ipython",
    "version": 3
   },
   "file_extension": ".py",
   "mimetype": "text/x-python",
   "name": "python",
   "nbconvert_exporter": "python",
   "pygments_lexer": "ipython3",
   "version": "3.13.1"
  }
 },
 "nbformat": 4,
 "nbformat_minor": 5
}
